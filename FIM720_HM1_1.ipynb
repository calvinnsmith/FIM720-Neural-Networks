{
  "nbformat": 4,
  "nbformat_minor": 0,
  "metadata": {
    "colab": {
      "name": "FIM720_HM1_1.ipynb",
      "provenance": [],
      "collapsed_sections": [],
      "authorship_tag": "ABX9TyN+LN55rzlb+mWwz0sLM9sH",
      "include_colab_link": true
    },
    "kernelspec": {
      "name": "python3",
      "display_name": "Python 3"
    },
    "language_info": {
      "name": "python"
    }
  },
  "cells": [
    {
      "cell_type": "markdown",
      "metadata": {
        "id": "view-in-github",
        "colab_type": "text"
      },
      "source": [
        "<a href=\"https://colab.research.google.com/github/calvinnsmith/FIM720-Neural-Networks/blob/main/FIM720_HM1_1.ipynb\" target=\"_parent\"><img src=\"https://colab.research.google.com/assets/colab-badge.svg\" alt=\"Open In Colab\"/></a>"
      ]
    },
    {
      "cell_type": "code",
      "metadata": {
        "colab": {
          "base_uri": "https://localhost:8080/"
        },
        "id": "kN_CggRrWsdj",
        "outputId": "e728866d-a54e-46aa-ed8d-6729899c44e7"
      },
      "source": [
        "import numpy as np\n",
        "import math\n",
        "\n",
        "N = 120 \n",
        "def create_patterns(noOfPatterns,N):\n",
        "  patterns = np.ones((N,noOfPatterns))\n",
        "  for i in range(N):\n",
        "    for j in range(noOfPatterns):\n",
        "      p = np.random.uniform(0,1)\n",
        "      if p <= 0.5:\n",
        "        patterns[i,j] = -1\n",
        "  \n",
        "  return patterns\n",
        "\n",
        "\n",
        "#def hebbs_rule(patterns):\n",
        " # bits = patterns.shape[1]\n",
        "  #noOfPatterns = patterns.shape[1]\n",
        "  #W = np.zeros((bits,bits)) \n",
        "  #for i in range(bits):\n",
        "   # for j in range(bits):\n",
        "    #  if i == j:\n",
        "     #   W[i,j] = 0\n",
        "      #else:\n",
        "       # W[i,j] = (1/bits)*np.dot(patterns[:,i],patterns[:,j])\n",
        "  \n",
        "  \n",
        "  #return W\n",
        "\n",
        "def hebbs_rule(patterns):\n",
        "  bits = patterns.shape[0]\n",
        "  noOfPatterns = patterns.shape[1]\n",
        "  W = np.zeros((bits,bits)) \n",
        "  for i in range(bits):\n",
        "    for j in range(bits):\n",
        "        W[i,j] = (1/bits)*np.dot(patterns[i,:],patterns[j,:])\n",
        "   \n",
        "  return W\n",
        "\n",
        "\n",
        "def one_step(trials,p):\n",
        "  error_count = 0\n",
        "  N = 120\n",
        "  for i in range(trials):\n",
        "    patterns = create_patterns(p,N)\n",
        "    W = hebbs_rule(patterns)\n",
        "    s_0 = patterns[:,1]\n",
        "    index = np.random.randint(1,N)\n",
        "    s_update = np.sign(np.dot(W[:,index],s_0))\n",
        "    if s_update == 0:\n",
        "      s_update = 1\n",
        "    if s_update != s_0[index]:\n",
        "      error_count = error_count + 1\n",
        "\n",
        "  prob_error = error_count/trials\n",
        "\n",
        "  return prob_error\n",
        "\n",
        "\n",
        "trials = 10000\n",
        "\n",
        "nr_patterns = np.array([12,24,48,70,100,120])\n",
        "error_prob = np.zeros(6)\n",
        "\n",
        "for i in range(len(nr_patterns)):\n",
        "     error_prob[i] = one_step(trials,nr_patterns[i])\n",
        "     print(nr_patterns[i])\n",
        "\n",
        "print(error_prob)\n",
        "\n"
      ],
      "execution_count": 2,
      "outputs": [
        {
          "output_type": "stream",
          "name": "stdout",
          "text": [
            "12\n",
            "24\n",
            "48\n",
            "70\n",
            "100\n",
            "120\n",
            "[0.0003 0.0035 0.0145 0.0195 0.0215 0.0201]\n"
          ]
        }
      ]
    }
  ]
}