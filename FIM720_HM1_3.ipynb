{
  "nbformat": 4,
  "nbformat_minor": 0,
  "metadata": {
    "colab": {
      "name": "FIM720_HM1_3.ipynb",
      "provenance": [],
      "collapsed_sections": [],
      "authorship_tag": "ABX9TyNtB9iTPNSYiqV5pPbcNttL",
      "include_colab_link": true
    },
    "kernelspec": {
      "name": "python3",
      "display_name": "Python 3"
    },
    "language_info": {
      "name": "python"
    }
  },
  "cells": [
    {
      "cell_type": "markdown",
      "metadata": {
        "id": "view-in-github",
        "colab_type": "text"
      },
      "source": [
        "<a href=\"https://colab.research.google.com/github/calvinnsmith/FIM720-Neural-Networks/blob/main/FIM720_HM1_3.ipynb\" target=\"_parent\"><img src=\"https://colab.research.google.com/assets/colab-badge.svg\" alt=\"Open In Colab\"/></a>"
      ]
    },
    {
      "cell_type": "code",
      "metadata": {
        "id": "2z27m4xOFu4K"
      },
      "source": [
        ""
      ],
      "execution_count": null,
      "outputs": []
    },
    {
      "cell_type": "code",
      "metadata": {
        "colab": {
          "base_uri": "https://localhost:8080/"
        },
        "id": "iX9fZ8oBoq-q",
        "outputId": "70893fbd-9414-4880-d96f-a376cf6fb686"
      },
      "source": [
        "import numpy as np\n",
        "import math \n",
        "\n",
        "\n",
        "\n",
        "\n",
        "def create_patterns(noOfPatterns,N):\n",
        "  patterns = np.ones((N,noOfPatterns))\n",
        "  for i in range(N):\n",
        "    for j in range(noOfPatterns):\n",
        "      p = np.random.uniform(0,1)\n",
        "      if p <= 0.5:\n",
        "        patterns[i,j] = -1\n",
        "  \n",
        "  return patterns\n",
        "\n",
        "def hebbs_rule(patterns):\n",
        "  bits = patterns.shape[0]\n",
        "  noOfPatterns = patterns.shape[1]\n",
        "  W = np.zeros((bits,bits)) \n",
        "  for i in range(bits):\n",
        "    for j in range(bits):\n",
        "     if i == j:\n",
        "        W[i,j] = 0\n",
        "     else:\n",
        "        W[i,j] = (1/bits)*np.dot(patterns[i,:],patterns[j,:])\n",
        "  \n",
        "  return W\n",
        "\n",
        "def update(W,old):\n",
        "  \n",
        "  new = np.sign(np.dot(W,old))\n",
        "\n",
        "  for i in range(len(new)):\n",
        "    if new[i] == 0:\n",
        "      new[i] = 1\n",
        "\n",
        "  return new\n",
        "\n",
        "\n",
        "def p(b):\n",
        "  beta = 2\n",
        "  p =1/(1 + np.exp(-2*beta*b))\n",
        "\n",
        "  return p\n",
        "\n",
        "\n",
        "def binary_update(W,s):\n",
        "  s_update = np.zeros(len(s))\n",
        "  for i in range(len(s)):\n",
        "    b = np.dot(W[i,:],s)\n",
        "    prob = p(b)\n",
        "    if np.random.uniform(0,1) <= prob:\n",
        "      s_update[i] = 1\n",
        "    else:\n",
        "      s_update[i] = -1\n",
        "\n",
        "  return s_update\n",
        "\n",
        "def trials(W,s,T):\n",
        "  for i in range(T):\n",
        "    s_new = binary_update(W,s)\n",
        "    s = s_new\n",
        "  \n",
        "  return s_new\n",
        "\n",
        "\n",
        "def order_parameter(s,x_1):\n",
        "  m = np.dot(s,x_1)*(1/len(x_1))\n",
        "  return m\n",
        "\n",
        "\n",
        "\n",
        "### MAIN ###\n",
        "\n",
        "N = 200\n",
        "T = 2*1000\n",
        "t = 100\n",
        "M = np.zeros(t)\n",
        "for i in range(t):\n",
        "   patterns = create_patterns(7,N)\n",
        "   W = hebbs_rule(patterns)\n",
        "   x_1 = patterns[:,1]\n",
        "   s = x_1\n",
        "   m = 0\n",
        "   for j in range(T):\n",
        "     s_new = binary_update(W,s)\n",
        "     m = m + order_parameter(s_new,x_1)\n",
        "     s = s_new\n",
        "\n",
        "   \n",
        "   M[i] = m/T\n",
        "   \n",
        "    \n",
        "\n",
        "\n",
        "est_order = np.sum(M)/t  \n",
        "print(est_order)\n",
        "   \n",
        "   \n",
        "   \n",
        "   \n",
        "   \n",
        "   \n",
        "   \n",
        "\n",
        "\n",
        "\n"
      ],
      "execution_count": 19,
      "outputs": [
        {
          "output_type": "stream",
          "name": "stdout",
          "text": [
            "0.8956554500000234\n"
          ]
        }
      ]
    }
  ]
}